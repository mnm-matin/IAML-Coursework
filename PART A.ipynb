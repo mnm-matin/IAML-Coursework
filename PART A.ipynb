{
 "cells": [
  {
   "cell_type": "code",
   "execution_count": 18,
   "metadata": {},
   "outputs": [],
   "source": [
    "import os\n",
    "import numpy as np \n",
    "import pandas as pd\n",
    "import matplotlib.pyplot as plt\n",
    "import seaborn as sns\n",
    "from sklearn.model_selection import train_test_split\n",
    "from sklearn.linear_model import LogisticRegression\n",
    "from sklearn.svm import LinearSVC, SVC\n",
    "from sklearn.neighbors import KNeighborsClassifier\n",
    "from sklearn.metrics import confusion_matrix, log_loss\n",
    "from pandas.api.types import CategoricalDtype\n",
    "KNeighboursClassifier = KNeighborsClassifier\n",
    "from sklearn.cluster import KMeans\n",
    "%matplotlib inline"
   ]
  },
  {
   "cell_type": "markdown",
   "metadata": {},
   "source": [
    "# PART A: 20-NEWSGROUPS [60 POINTS]"
   ]
  },
  {
   "cell_type": "markdown",
   "metadata": {},
   "source": [
    "Load the training and testing datasets into two pandas dataframes. \n",
    "Note that each contains both the features as well as the target, as the last column labelled `class'. \n",
    "You should extract the features and targets into separate dataframes/arrays."
   ]
  },
  {
   "cell_type": "markdown",
   "metadata": {},
   "source": [
    "# [1.1] (5 points) \n",
    "\n",
    "Focusing first on the training set, summarise the key features/observations in the data: \n",
    "focus on the dimensionality, \n",
    "\n",
    "data ranges, \n",
    "\n",
    "feature and class distribution and \n",
    "\n",
    "report anything out of the ordinary. \n",
    "\n",
    "What are the typical values of the features like?\n"
   ]
  },
  {
   "cell_type": "markdown",
   "metadata": {},
   "source": [
    "# ANSWER\n",
    "\n",
    "Number of instances of training data: 5648, number of attributes: 1000\n",
    "The mean values of the attributes range from 0.000100 to 0.025200"
   ]
  },
  {
   "cell_type": "code",
   "execution_count": 19,
   "metadata": {},
   "outputs": [
    {
     "name": "stdout",
     "output_type": "stream",
     "text": [
      "Number of instances of training data: 5648, number of attributes: 1000\n",
      "Number of instances of testing data: 1883, number of attributes: 1000\n"
     ]
    }
   ],
   "source": [
    "#Loading Data Set\n",
    "data_path_20ng_train = os.path.join(os.getcwd(), 'Data', 'PartA', '20ng_train.csv')\n",
    "data_path_20ng_test = os.path.join(os.getcwd(), 'Data', 'PartA', '20ng_test.csv')\n",
    "\n",
    "ngtrain = pd.read_csv(data_path_20ng_train,compression='bz2',delimiter = ',')\n",
    "ngtest = pd.read_csv(data_path_20ng_test, compression='bz2', delimiter = ',')\n",
    "\n",
    "#Splitting Data\n",
    "X = ngtrain.drop('class', axis=1)\n",
    "y = ngtrain['class'].values\n",
    "\n",
    "print('Number of instances of training data: {}, number of attributes: {}'.format(ngtrain.shape[0], ngtrain.shape[1]-1))\n",
    "print('Number of instances of testing data: {}, number of attributes: {}'.format(ngtest.shape[0], ngtest.shape[1]-1))\n",
    "\n"
   ]
  },
  {
   "cell_type": "code",
   "execution_count": 24,
   "metadata": {},
   "outputs": [
    {
     "name": "stdout",
     "output_type": "stream",
     "text": [
      "\\begin{tabular}{lrrrrrrrr}\n",
      "\\toprule\n",
      "class &    0 &    1 &    2 &    3 &    4 &    5 &    6 &    7 \\\\\n",
      "\\midrule\n",
      "\\# of Samples &  737 &  722 &  742 &  747 &  743 &  738 &  748 &  471 \\\\\n",
      "\\bottomrule\n",
      "\\end{tabular}\n",
      "\n"
     ]
    }
   ],
   "source": [
    "lol=pd.DataFrame()\n",
    "lol['# of Samples'] = ngtrain.groupby('class').size()\n",
    "print(lol.T.to_latex())\n",
    "#display(pd.DataFrame(ngtrain.groupby('class').size())"
   ]
  },
  {
   "cell_type": "code",
   "execution_count": 42,
   "metadata": {},
   "outputs": [
    {
     "name": "stdout",
     "output_type": "stream",
     "text": [
      "97.51632436260623\n"
     ]
    }
   ],
   "source": [
    "#ngtrain.head(50)\n",
    "X\n",
    "np.sum((X == 0).astype(int).sum(axis=1))\n",
    "print(5507722/5648000*100)"
   ]
  },
  {
   "cell_type": "code",
   "execution_count": 23,
   "metadata": {},
   "outputs": [
    {
     "data": {
      "text/plain": [
       "elohim     0.000100\n",
       "jehovah    0.000200\n",
       "mov        0.000211\n",
       "ripem      0.000565\n",
       "ra         0.000581\n",
       "             ...   \n",
       "don        0.022885\n",
       "just       0.024518\n",
       "know       0.024756\n",
       "like       0.025200\n",
       "class      3.345255\n",
       "Length: 1001, dtype: float64"
      ]
     },
     "execution_count": 23,
     "metadata": {},
     "output_type": "execute_result"
    }
   ],
   "source": [
    "ngtrain.mean().sort_values()\n",
    "#ngtrain.describe()"
   ]
  },
  {
   "cell_type": "code",
   "execution_count": null,
   "metadata": {},
   "outputs": [],
   "source": []
  },
  {
   "cell_type": "code",
   "execution_count": 6,
   "metadata": {},
   "outputs": [],
   "source": [
    "#ngtrain.describe().sort(axis=0)\n",
    "#ngtrain.sort_values('class')"
   ]
  },
  {
   "cell_type": "markdown",
   "metadata": {},
   "source": [
    "# [1.2] (3 points) \n",
    "\n",
    "Looking now at the Testing set, how does it compare with the Training Set (in terms of sizes and feature-distributions) and what could be the repurcussions of this?"
   ]
  },
  {
   "cell_type": "code",
   "execution_count": 14,
   "metadata": {},
   "outputs": [
    {
     "name": "stdout",
     "output_type": "stream",
     "text": [
      "\\begin{tabular}{lrrrrrrrr}\n",
      "\\toprule\n",
      "class &    0 &    1 &    2 &    3 &    4 &    5 &    6 &    7 \\\\\n",
      "\\midrule\n",
      "\\# of Samples &  245 &  241 &  248 &  249 &  248 &  246 &  249 &  157 \\\\\n",
      "\\bottomrule\n",
      "\\end{tabular}\n",
      "\n"
     ]
    }
   ],
   "source": [
    "lolz=pd.DataFrame()\n",
    "lolz['# of Samples'] = ngtest.groupby('class').size()\n",
    "print(lolz.T.to_latex())"
   ]
  },
  {
   "cell_type": "markdown",
   "metadata": {},
   "source": [
    "# Answer\n",
    "\n",
    "Number of instances of testing data: 1883, number of attributes same as training data\n",
    "Testing: The mean values of the attributes range from 0.000165 to 0.025611\n",
    "Training: The mean values of the attributes range from 0.000100 to 0.025200\n"
   ]
  },
  {
   "cell_type": "code",
   "execution_count": 7,
   "metadata": {},
   "outputs": [],
   "source": [
    "#ngtest.sort_values()\n",
    "#ngtest.mean().sort_values()\n",
    "#ngtrain.describe()"
   ]
  },
  {
   "cell_type": "markdown",
   "metadata": {},
   "source": [
    "# [1.3] (2 points) \n",
    "\n",
    "Why do you think it is useful to consider TF-IDF weights as opposed to just the frequency of times a word appears in a document as a feature?\n",
    "\n",
    "\n",
    "Term-Frequency/Inverse-Document\n",
    "Frequency TF-IDF weights for each word instead of the frequency counts. These weights represent the importance of a word to a document, with respect to a collection of documents. The importance increases proportionally to the number of times a word appears in the document, and is inversely proportional to the number of times the word appears in the whole corpus."
   ]
  },
  {
   "cell_type": "markdown",
   "metadata": {},
   "source": [
    "# Answer\n",
    "\n",
    " if only frequencies were used: words like 'just, 'know' & 'like' have high frequncy in the whole corpus and would dominate in classifications. \n",
    " \n",
    " Using TF-IDF : the importance of these words is decreased as it is inversly proprtional to the frequency in the corpus.\n",
    " "
   ]
  },
  {
   "cell_type": "markdown",
   "metadata": {},
   "source": [
    "# Question 2 : (24 points) Unsupervised Learning\n",
    "\n",
    "We will now explore the documents in some detail by way of clustering.\n",
    "We will be focusing mainly on K-Means clustering. In what follows we will use ONLY\n",
    "the training data."
   ]
  },
  {
   "cell_type": "markdown",
   "metadata": {},
   "source": [
    "# [2.1] (2 points) \n",
    "\n",
    "The K-Means algorithm is non-deterministic. Explain why this is, and\n",
    "how the final model is selected in the SKLearn implementation of KMeans."
   ]
  },
  {
   "cell_type": "markdown",
   "metadata": {},
   "source": [
    "# Answer\n",
    "\n",
    "The K-Means algorith is non-determinsitic as it can produce different results each time it is run. This is due to the fact that it randomly selects data points as initial clusters.\n",
    "\n",
    "With the parameter init='k-means++' , the SKLearn implementation initializes the centroids to be generally distant from each other. Some models may get stuck at a local minima during convergence. Therefore, different initial clusters are used. The model that has a global minima is selected.\n"
   ]
  },
  {
   "cell_type": "markdown",
   "metadata": {},
   "source": [
    "# [2.2] (1 point) \n",
    "\n",
    "One of the parameters we need to specify when using k-means is the number\n",
    "of clusters. What is a reasonable number for this problem and why?"
   ]
  },
  {
   "cell_type": "code",
   "execution_count": 8,
   "metadata": {},
   "outputs": [
    {
     "data": {
      "image/png": "[encoded data removed]",
      "text/plain": [
       "<Figure size 432x288 with 1 Axes>"
      ]
     },
     "metadata": {
      "needs_background": "light"
     },
     "output_type": "display_data"
    }
   ],
   "source": [
    "from sklearn.preprocessing import MinMaxScaler\n",
    "mms = MinMaxScaler()\n",
    "mms.fit(X)\n",
    "data_transformed =mms.transform(X)\n",
    "\n",
    "\n",
    "Sum_of_squared_distances = []\n",
    "K = range(1,15)\n",
    "for k in K:\n",
    "    km = KMeans(n_clusters=k)\n",
    "    km = km.fit(data_transformed)\n",
    "    Sum_of_squared_distances.append(km.inertia_)\n",
    "    \n",
    "plt.plot(K, Sum_of_squared_distances, 'bx-')\n",
    "plt.xlabel('k')\n",
    "plt.ylabel('Sum_of_squared_distances')\n",
    "plt.title('Elbow Method For Optimal k')\n",
    "plt.show()"
   ]
  },
  {
   "cell_type": "markdown",
   "metadata": {},
   "source": [
    "# Answer\n",
    "\n",
    "8 Clusters are reasonable as we have to classify our data into 8 classes.\n",
    "\n"
   ]
  },
  {
   "cell_type": "markdown",
   "metadata": {},
   "source": [
    "# [2.3] (5 points) \n",
    "\n",
    "We will use the Adjusted Mutual Information (AMI) i.e. adjusted_mutual_info_score between the clusters and the true (known) labels to quantify the performance of the clustering. \n",
    "\n",
    "Give an expression for the MI in terms of entropy. \n",
    "In short, \n",
    "describe what the MI measures about two variables, \n",
    "why this is applicable here and \n",
    "why it might be difficult to use in practice. \n",
    "\n",
    "Hint: MI is sometimes referred to as Information Gain: note that you are asked only about the standard way we defined MI and not the AMI which is adjusted for the size of the domain and for chance agreement."
   ]
  },
  {
   "cell_type": "markdown",
   "metadata": {},
   "source": [
    "# Answer\n",
    "\n",
    "Expression for Mutual Information I(X,Y) between two variables X & Y in terms of Entropy H\n",
    "\n",
    "    I(X, Y) = H(X) - H(X|Y) where H(X|Y) is the conditional entropy of X given Y\n",
    "\n",
    "\n",
    "The MI is applicable here as it can me used as a measure of simmilarity between the two sets of data.\n",
    "If the Predicted Class Labels (P) are identical to the True Class Labels (T) then \n",
    "I(P,T) = H(P) - 0 = H(P) \n",
    "\n",
    "The MI is practically difficult to use as it is hugher if the number of clusters is larger regardless of the simmilarity between them. Also it is computationally slower than other more robust metrics.\n",
    "\n",
    "\n",
    "\n",
    "\n"
   ]
  },
  {
   "cell_type": "markdown",
   "metadata": {},
   "source": [
    "# [2.4] (4 points) \n",
    "\n",
    "Fit K-Means objects with n_clusters ranging from 2 to 12. \n",
    "Set the random seed to 1000 and the number of initialisations to 50, but leave all other values at default. \n",
    "\n",
    "For each \u001c",
    "t compute the adjusted mutual information (there is an SKLearn function for that). \n",
    "Set average_method=`max' . \n",
    "\n",
    "Plot the AMI scores against the number of clusters (as a line plot)."
   ]
  },
  {
   "cell_type": "code",
   "execution_count": 20,
   "metadata": {},
   "outputs": [
    {
     "data": {
      "image/png": "[encoded data removed]",
      "text/plain": [
       "<Figure size 432x288 with 1 Axes>"
      ]
     },
     "metadata": {
      "needs_background": "light"
     },
     "output_type": "display_data"
    }
   ],
   "source": [
    "from sklearn.metrics.cluster import adjusted_mutual_info_score\n",
    "label_true=y\n",
    "AMI = []\n",
    "K = range(2,13)\n",
    "for k in K:\n",
    "    km = KMeans(n_clusters=k, random_state=1000, n_init=50)\n",
    "    km.fit(X)\n",
    "    label_pred=km.labels_\n",
    "    AMI.append(adjusted_mutual_info_score(label_true, label_pred,average_method='max'))\n",
    "    \n",
    "plt.plot(K, AMI, 'bx-')\n",
    "plt.xlabel('k')\n",
    "plt.ylabel('AMI')\n",
    "plt.title('AMI vs k')\n",
    "plt.savefig('2_4.png')\n",
    "plt.show()  \n"
   ]
  },
  {
   "cell_type": "code",
   "execution_count": null,
   "metadata": {},
   "outputs": [],
   "source": []
  },
  {
   "cell_type": "markdown",
   "metadata": {},
   "source": [
    "# Answer"
   ]
  },
  {
   "cell_type": "markdown",
   "metadata": {},
   "source": [
    "# [2.5] (3 points) \n",
    "\n",
    "Discuss any trends \n",
    "and interesting aspects which emerge from the plot.\n",
    "\n",
    "Does this follow from your expectations?"
   ]
  },
  {
   "cell_type": "markdown",
   "metadata": {},
   "source": [
    "# Answer\n",
    "\n",
    "The Adjusted Mutual Information (AMI) increases as the number of clusters increase from 2 to 8 clusters. 4 Clusters seems to be interesting as the AMI is higher than that for 5 Clusters. The AMI is highest at 9 clusters. The AMI decrases for number of clusters = 10 , 11, 12\n",
    "\n",
    "\n",
    "Ideally we would expect 8 Clusters to have the highest AMI. However, this is very close  as the highest AMI is at 9 clusters with little difference with the AMI at 8 clusters. A high AMI means that the predicted classes were closer to the true values. The drop in AMI after 9 clusters is also as expected as the true values of class labels only range from 0 to 7."
   ]
  },
  {
   "cell_type": "markdown",
   "metadata": {},
   "source": [
    "# [2.6] (6 points) \n",
    "\n",
    "Let us investigate the case with four (4) clusters in some more detail.\n",
    "\n",
    "Using seaborn's countplot function, \n",
    "plot a bar-chart of\n",
    "number of data-points with a particular class (encoded by colour) assigned \n",
    "to each cluster centre (encoded by position on the plot's x-axis). \n",
    "\n",
    "As part of the cluster labels, include the total number of data-points assigned to that cluster."
   ]
  },
  {
   "cell_type": "code",
   "execution_count": 22,
   "metadata": {},
   "outputs": [
    {
     "name": "stdout",
     "output_type": "stream",
     "text": [
      "5181.133561878838\n",
      "0.2564638316247754\n",
      "Counter({3: 3370, 0: 1258, 2: 606, 1: 414})\n"
     ]
    },
    {
     "data": {
      "image/png": "[encoded data removed]",
      "text/plain": [
       "<Figure size 720x288 with 1 Axes>"
      ]
     },
     "metadata": {
      "needs_background": "light"
     },
     "output_type": "display_data"
    }
   ],
   "source": [
    "from collections import Counter, defaultdict\n",
    "from sklearn.metrics.cluster import adjusted_mutual_info_score\n",
    "\n",
    "km = KMeans(n_clusters=4, random_state=1000, n_init=50)\n",
    "km.fit(X)\n",
    "print (km.inertia_)\n",
    "print (adjusted_mutual_info_score(km.labels_, y,average_method='max'))\n",
    "\n",
    "print(Counter(km.labels_))\n",
    "fig, ax = plt.subplots(figsize=(10,4))\n",
    "ax = sns.countplot(x=km.labels_, hue=y, ax=ax)\n",
    "ax.legend(labels=['comp.sys.ibm.pc.hardware','comp.sys.mac.hardware','rec.autos','rec.motorcycles', 'sci.crypt', \n",
    "                  'sci.electronics', 'soc.religion.christian','talk.religion.misc'],\n",
    "          loc='center left', bbox_to_anchor=[1.1, 0.5], title='Class')\n",
    "plt.gca().set_xticks([i + 0.5 for i in range(4)], minor=True)\n",
    "plt.grid(True, which='minor')\n",
    "plt.xlabel('cluster id')\n",
    "plt.text(x = 0, y = 500, s = \"Total 1258\")\n",
    "plt.text(x = 1, y = 500, s = \"Total 414\")\n",
    "plt.text(x = 2, y = 500, s = \"Total 606\")\n",
    "plt.text(x = 3, y = 600, s = \"Total 3370\")\n",
    "plt.savefig('2_6.png')\n",
    "plt.show()"
   ]
  },
  {
   "cell_type": "markdown",
   "metadata": {},
   "source": [
    "# Answer"
   ]
  },
  {
   "cell_type": "markdown",
   "metadata": {},
   "source": [
    "# [2.7] (3 points) \n",
    "\n",
    "How does the clustering in Question2.6 align with the true class labels?\n",
    "Does it conform to your observations in Q 2.5 ?"
   ]
  },
  {
   "cell_type": "markdown",
   "metadata": {},
   "source": [
    "# Answer\n",
    "\n",
    "\n",
    "The clustering sepeates Group 4 as it is the only one with a dominant peak.\n",
    "However, the other data points are not well seperated.\n",
    "The true class labels do not align with the predicted labels. This conforms to obervations of AMI in Q2.5 as the AMI is low (AMI for n_clusters=4 is 0.24) .i.e low simmilarity between true and predicted labels."
   ]
  },
  {
   "cell_type": "markdown",
   "metadata": {},
   "source": [
    "# Question 3 : (26 points) Logistic Regression Classification\n",
    "We will now try out supervised classi\u001c",
    "cation on this data. We will focus\n",
    "on Logistic Regression and measure performance in terms of the F1 score\n",
    "(familiarise yourself with this score which is related to the precision and recall\n",
    "scores that we learnt about in class).\n",
    "\n",
    "In most cases, we will need to validate hyper-parameters: to this end, we will use K-\n",
    "Fold cross validation. Using the provided SKLearn implementation for Strati\u001c",
    "edKFold,\n",
    "create a 10-Fold strati\u001c",
    "ed split of the data. Make sure to set the random state to 0\n",
    "for reproducibility, and turn on shu\u001fing. We will use the same splits provided by this\n",
    "throughout this question."
   ]
  },
  {
   "cell_type": "code",
   "execution_count": 8,
   "metadata": {},
   "outputs": [],
   "source": [
    "#Imports\n",
    "from sklearn import metrics\n",
    "from sklearn.metrics import f1_score\n",
    "from sklearn import model_selection\n",
    "from sklearn.model_selection import StratifiedKFold\n",
    "\n",
    "#Loading test Data\n",
    "\n",
    "Xt = ngtest.drop('class', axis=1)\n",
    "yt = ngtest['class'].values\n"
   ]
  },
  {
   "cell_type": "code",
   "execution_count": 9,
   "metadata": {},
   "outputs": [
    {
     "name": "stdout",
     "output_type": "stream",
     "text": [
      "1 of KFold 10\n",
      "2 of KFold 10\n",
      "3 of KFold 10\n",
      "4 of KFold 10\n",
      "5 of KFold 10\n",
      "6 of KFold 10\n",
      "7 of KFold 10\n",
      "8 of KFold 10\n",
      "9 of KFold 10\n",
      "10 of KFold 10\n"
     ]
    }
   ],
   "source": [
    "from sklearn.model_selection import StratifiedKFold\n",
    "\n",
    "kf = StratifiedKFold(n_splits=10, shuffle=True, random_state=0)\n",
    "\n",
    "i=1\n",
    "for train_index,test_index in kf.split(X,y):\n",
    "    print('{} of KFold {}'.format(i,kf.n_splits))\n",
    "    xtr,xvl = ngtrain.loc[train_index],ngtrain.loc[test_index]\n",
    "    #ytr,yvl = y.iloc[train_index],y.iloc[test_index]\n",
    "    \n",
    "    #model\n",
    "#     lr = LogisticRegression(C=2)\n",
    "#     lr.fit(xtr,ytr)\n",
    "#     score = roc_auc_score(yvl,lr.predict(xvl))\n",
    "#     print('ROC AUC score:',score)\n",
    "#     cv_score.append(score)    \n",
    "#     pred_test = lr.predict_proba(x_test)[:,1]\n",
    "#     pred_test_full +=pred_test\n",
    "    i+=1\n"
   ]
  },
  {
   "cell_type": "markdown",
   "metadata": {},
   "source": [
    "# [3.1] (3 points) \n",
    "What is the F1-score, and why is it preferable to accuracy in our problem?\n",
    "How does the macro-average work to extend the score to multi-class classification?"
   ]
  },
  {
   "cell_type": "markdown",
   "metadata": {},
   "source": [
    "# Answer\n",
    "The F1 Score is  2*((precision*recall)/(precision+recall)). \n",
    "\n",
    "Precision:   True Positives / (True Positives + False Positives)\n",
    "\n",
    "Recall:      True Positives / (True Positives + False Negatives)\n",
    "\n",
    "F1 is the weighted average of Precision and Recall.\n",
    "\n",
    "It is more preferable to accuracy as False Negatives and False positives are important in our problem.\n",
    "Accuracy can be largely contributed to by a high number of True Positives and True Negatives which is not useful in our problem.\n",
    "\n",
    "macro avarage calculates the F1 separated by class:\n",
    "\n",
    "    Fgroup1+Fgroup2+⋅⋅⋅+Fgroup8\n",
    "\n",
    "\n",
    "In multi-class classification this means that classes with fewer number of data points will be favoured. If the classifier performs badly in these minority classes the macro average heavily penalized.\n",
    "\n",
    "\n"
   ]
  },
  {
   "cell_type": "markdown",
   "metadata": {},
   "source": [
    "# [3.2] (2 points) \n",
    "\n",
    "As always we start with a simple baseline classifier. Define such a classifier (indicating why you chose it) \n",
    "and report its performance on the Test set. \n",
    "Use the `macro' average for the f1_score ."
   ]
  },
  {
   "cell_type": "code",
   "execution_count": 10,
   "metadata": {},
   "outputs": [
    {
     "name": "stdout",
     "output_type": "stream",
     "text": [
      "              precision    recall  f1-score   support\n",
      "\n",
      "           0     0.1416    0.1306    0.1359       245\n",
      "           1     0.1494    0.1494    0.1494       241\n",
      "           2     0.1330    0.1169    0.1245       248\n",
      "           3     0.1594    0.1767    0.1676       249\n",
      "           4     0.1222    0.1331    0.1274       248\n",
      "           5     0.1208    0.1179    0.1193       246\n",
      "           6     0.1336    0.1406    0.1370       249\n",
      "           7     0.0667    0.0637    0.0651       157\n",
      "\n",
      "    accuracy                         0.1317      1883\n",
      "   macro avg     0.1283    0.1286    0.1283      1883\n",
      "weighted avg     0.1312    0.1317    0.1313      1883\n",
      "\n"
     ]
    }
   ],
   "source": [
    "ngtrain.groupby('class').size()\n",
    "\n",
    "from sklearn.dummy import DummyClassifier\n",
    "from sklearn import metrics\n",
    "\n",
    "dc = DummyClassifier(strategy='stratified', random_state=0, constant=None)\n",
    "dc.fit(X,y)\n",
    "\n",
    "y_pred = dc.predict(Xt)\n",
    "\n",
    "print(metrics.classification_report(yt, y_pred, digits=4))\n"
   ]
  },
  {
   "cell_type": "markdown",
   "metadata": {},
   "source": [
    "# Answer\n",
    "\n",
    "The sklearn DummyClassifier with stratified strategy gives a f1-score macro avg of 0.1283.\n",
    "\n",
    "The stratified Dummy Classifier predicts that there is a 90% probability that each object it encounters possesses the target property. The most frequent strategy would not be as useful as most of the classes have a simmilar count.\n"
   ]
  },
  {
   "cell_type": "markdown",
   "metadata": {},
   "source": [
    "# [3.3] (3 points) \n",
    "We will now train a LogisticRegression Classifier from SKLearn. By\n",
    "referring to the documentation, explain how the Logistic Regression model can be applied\n",
    "to classify multi-class labels as in our case. Hint: Limit your explanation to methods we\n",
    "discussed in the lectures."
   ]
  },
  {
   "cell_type": "markdown",
   "metadata": {},
   "source": [
    "# Answer\n",
    "\n",
    "\n",
    "The SKLearn Logistic Regression Classifier in the multi_class mode uses the one vs rest scheme \n",
    "\n",
    "i.e Creates different weight vectores wk for each class to classify into k and not-k \n",
    "\n",
    "It then uses the softmax function.\n"
   ]
  },
  {
   "cell_type": "markdown",
   "metadata": {},
   "source": [
    "# [3.4] (4 points) \n",
    "Train a Logistic Regressor on the training data. Set solver=`lbfgs' ,\n",
    "multi_class=`multinomial' and random_state=0 . Use the Cross-Validation object you\n",
    "created and report the average validation-set F1-score as well as the standard deviation.\n",
    "Comment on the result."
   ]
  },
  {
   "cell_type": "code",
   "execution_count": 11,
   "metadata": {},
   "outputs": [
    {
     "name": "stdout",
     "output_type": "stream",
     "text": [
      "0.01350166158539\n",
      "1 of KFold 10\n",
      "2 of KFold 10\n",
      "3 of KFold 10\n",
      "4 of KFold 10\n",
      "5 of KFold 10\n",
      "6 of KFold 10\n",
      "7 of KFold 10\n",
      "8 of KFold 10\n",
      "9 of KFold 10\n",
      "10 of KFold 10\n",
      "0.6689909262264606\n"
     ]
    }
   ],
   "source": [
    "from sklearn.metrics import f1_score\n",
    "from sklearn import model_selection\n",
    "\n",
    "kf = StratifiedKFold(n_splits=10, shuffle=True, random_state=0)\n",
    "\n",
    "f1=[]\n",
    "\n",
    "Xlr=X.to_numpy()\n",
    "\n",
    "lr = LogisticRegression(solver = 'lbfgs', multi_class='multinomial', random_state=0)\n",
    "results = model_selection.cross_val_score(lr, X, y, cv=kf)\n",
    "print(results.std())\n",
    "\n",
    "i=1\n",
    "for train_index,test_index in kf.split(Xlr,y):\n",
    "    print('{} of KFold {}'.format(i,kf.n_splits))\n",
    "    \n",
    "    xtr, xvl = Xlr[train_index], Xlr[test_index]\n",
    "    ytr, yvl = y[train_index], y[test_index]\n",
    "    \n",
    "    lr = LogisticRegression(solver = 'lbfgs', multi_class='multinomial', random_state=0)\n",
    "    lr.fit(xtr, ytr)\n",
    "    \n",
    "    y_pred=lr.predict(xvl)\n",
    "    y_true=yvl\n",
    "    f1.append(f1_score(y_true, y_pred, average='macro'))\n",
    "    \n",
    "    i=i+1\n",
    "    \n",
    "    \n",
    "print (np.mean(f1))"
   ]
  },
  {
   "cell_type": "markdown",
   "metadata": {},
   "source": [
    "# Answer\n",
    "\n",
    "\n",
    "\n",
    "The average f1 score is 0.67\n",
    "The standard deviation is 0.0135\n",
    "\n",
    "The f1 score is approximately 5 times larger than the f1 score for the base classifier\n",
    "The standard deviation is small which suggests a tight spread of data around the mean."
   ]
  },
  {
   "cell_type": "markdown",
   "metadata": {},
   "source": [
    "# [3.5] (5 points) \n",
    "We will now optimise the Regularisation parameter C using cross-validation.\n",
    "\n",
    "Train a logistic regressor for different values of C : in each case, evaluate the F1 score on the training and validation portion of the fold. That is, for each value of C you must provide the training set and validation-set scores per fold \n",
    "\n",
    "and then compute (and store) the average of both over all folds. \n",
    "\n",
    "Finally plot the (average) training and validation-set scores as a function of C . \n",
    "\n",
    "    Hint: Use a logarithmic scale for C , spanning 19 samples between 10^−4 to 10^5 ."
   ]
  },
  {
   "cell_type": "code",
   "execution_count": 12,
   "metadata": {},
   "outputs": [],
   "source": [
    "import numpy as np \n",
    "import warnings\n",
    "warnings.filterwarnings('ignore')\n",
    "\n",
    "def frange(start, stop):\n",
    "    step=(stop-start)/19\n",
    "    i = start\n",
    "    while i < stop:\n",
    "        yield i\n",
    "        i += step\n",
    "        \n",
    "def power(my_list):\n",
    "    return [ 10**x for x in my_list ]\n",
    "\n",
    "Xlr=X.to_numpy()\n",
    "\n",
    "kf = StratifiedKFold(n_splits=10, shuffle=True, random_state=0)\n",
    "\n",
    "C_param_range = power(list(frange(-4, 5)))\n",
    "\n",
    "#print(C_param_range)\n",
    "\n",
    "\n",
    "f1_tr=[]\n",
    "f1_vl=[]\n",
    "\n",
    "f1_tr_avg=[]\n",
    "f1_vl_avg=[]\n",
    "\n",
    "\n",
    "for j in C_param_range:\n",
    "    f1_tr_a=[]\n",
    "    f1_vl_a=[]\n",
    "    f1=[]\n",
    "    i=1\n",
    "    #print ('C = {:10.4f}'.format(j))\n",
    "    for train_index,test_index in kf.split(Xlr,y):\n",
    "        xtr, xvl = Xlr[train_index], Xlr[test_index]\n",
    "        ytr, yvl = y[train_index], y[test_index]\n",
    "    \n",
    "        lr = LogisticRegression(C=j, solver = 'lbfgs', multi_class='multinomial', random_state=0)\n",
    "        lr.fit(xtr, ytr)\n",
    "    \n",
    "        y_pred=lr.predict(xvl)\n",
    "        y_true=yvl\n",
    "        f1_vl_=f1_score(y_true, y_pred, average='macro')\n",
    "        f1_vl.append(f1_vl_)\n",
    "        f1_vl_a.append(f1_vl_)\n",
    "        \n",
    "        \n",
    "        y_pred=lr.predict(xtr)\n",
    "        y_true=ytr\n",
    "        f1_tr_=f1_score(y_true, y_pred, average='macro')\n",
    "        f1_tr.append(f1_tr_)\n",
    "        f1_tr_a.append(f1_tr_)\n",
    "        \n",
    "        #print('KFold {} with F1-Score Validation = {:10.4f} & Training = {:10.4f}'.format(i,f1_vl_,f1_tr_))\n",
    "        i=i+1\n",
    "    f1_tr_avg.append(np.mean(f1_tr_a))\n",
    "    f1_vl_avg.append(np.mean(f1_vl_a))\n",
    "\n",
    "#print (np.mean(f1_tr))\n",
    "#print (np.mean(f1_vl))\n",
    "\n",
    "\n",
    "    "
   ]
  },
  {
   "cell_type": "code",
   "execution_count": 13,
   "metadata": {},
   "outputs": [
    {
     "data": {
      "image/png": "[encoded data removed]",
      "text/plain": [
       "<Figure size 432x288 with 1 Axes>"
      ]
     },
     "metadata": {
      "needs_background": "light"
     },
     "output_type": "display_data"
    }
   ],
   "source": [
    "plt.plot(C_param_range, f1_tr_avg,'bx-', label='training score')\n",
    "plt.plot(C_param_range, f1_vl_avg, 'bx-', label='validation score',color='red')\n",
    "plt.xscale('log')\n",
    "plt.legend()\n",
    "plt.xlabel('Regularisation parameter C')\n",
    "plt.ylabel('F1 score')\n",
    "plt.title('F1 Score vs C')\n",
    "plt.savefig('3_5.png')\n",
    "plt.show()"
   ]
  },
  {
   "cell_type": "code",
   "execution_count": 17,
   "metadata": {},
   "outputs": [
    {
     "name": "stdout",
     "output_type": "stream",
     "text": [
      "[0.0001, 0.00029763514416313193, 0.0008858667904100832, 0.002636650898730361, 0.007847599703514624, 0.023357214690901247, 0.06951927961775613, 0.2069138081114791, 0.6158482110660268, 1.832980710832437, 5.455594781168523, 16.237767391887225, 48.32930238571755, 143.8449888287663, 428.13323987193957, 1274.2749857031347, 3792.6901907322535, 11288.378916846907, 33598.18286283788]\n",
      "[0.10426652383342358, 0.19865011762377235, 0.3795273836320723, 0.53502699499779, 0.585080338713321, 0.598791384425776, 0.6099087524982338, 0.6550816308194474, 0.6665026833366225, 0.669581417512589, 0.6587800910022514, 0.6457415426624259, 0.6323887177247729, 0.627836908010788, 0.6288140945747085, 0.6275061304807361, 0.6262510263176051, 0.6210611462927627, 0.6210797365033175]\n"
     ]
    }
   ],
   "source": [
    "print (C_param_range)\n",
    "print (f1_vl_avg)"
   ]
  },
  {
   "cell_type": "markdown",
   "metadata": {},
   "source": [
    "# Answer\n",
    "\n",
    "\n"
   ]
  },
  {
   "cell_type": "markdown",
   "metadata": {},
   "source": [
    "# [3.6] (7 points) \n",
    "What is the optimal value of C (and the corresponding score)? \n",
    "\n",
    "How did you choose this value? \n",
    "\n",
    "By making reference to the effect of the regularisation parameter C on the optimisation, explain what is happening in your plot from Question 3:(e) \n",
    "\n",
    "    Hint: Refer to the documentation for C in the LogisticRegression page on SKLearn ."
   ]
  },
  {
   "cell_type": "markdown",
   "metadata": {},
   "source": [
    "# Answer\n",
    "\n",
    "Optimal C = 1.832981 with f1-score = 0.6696. \n",
    "\n",
    "This value was chosen as it is the elbow of the line plot on the training score. It is the point where the overfitting just starts to become more noticeable. This value of C also gives the highest f1-score on the validation set.\n",
    "Therefore, it is the point that provides a good balance.\n",
    "\n",
    "In the plot, as the Regularization Parameter C increases, the regularization strength decreases. This means that the model is more likely to over-fit. This can be seen in the graph as the difference in f1 score between the validation set and the training set also increases. The f1- score on the training set is much larger than the f1- score on the validation set for large values of C.\n",
    "\n",
    "\n",
    "\n",
    "smaller C Larger Lambda ... Larger Lambda less overfitting ..."
   ]
  },
  {
   "cell_type": "markdown",
   "metadata": {},
   "source": [
    "# [3.7] (2 points) \n",
    "Finally, report the score of the best model on the test-set, after retraining\n",
    "on the entire training set (that is drop the folds). Hint: You may need to set max_iter\n",
    "= 200 . Comment briefly on the result."
   ]
  },
  {
   "cell_type": "code",
   "execution_count": 18,
   "metadata": {},
   "outputs": [
    {
     "name": "stdout",
     "output_type": "stream",
     "text": [
      "0.6711918701589776\n"
     ]
    }
   ],
   "source": [
    "lr = LogisticRegression(C=1.832980710832437, solver = 'lbfgs', multi_class='multinomial', random_state=0, max_iter=200)\n",
    "lr.fit(X, y)\n",
    "y_pred = lr.predict(Xt)\n",
    "print (f1_score(yt, y_pred, average='macro'))"
   ]
  },
  {
   "cell_type": "markdown",
   "metadata": {},
   "source": [
    "# Answer\n",
    "\n",
    "f1 score: 0.6711918701589776\n",
    "\n",
    "The f1 score is very close to the f1-score using cross validation\n",
    "\n"
   ]
  }
 ],
 "metadata": {
  "kernelspec": {
   "display_name": "Python 3",
   "language": "python",
   "name": "python3"
  },
  "language_info": {
   "codemirror_mode": {
    "name": "ipython",
    "version": 3
   },
   "file_extension": ".py",
   "mimetype": "text/x-python",
   "name": "python",
   "nbconvert_exporter": "python",
   "pygments_lexer": "ipython3",
   "version": "3.6.9"
  }
 },
 "nbformat": 4,
 "nbformat_minor": 2
}
